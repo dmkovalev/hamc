{
 "cells": [
  {
   "cell_type": "markdown",
   "metadata": {},
   "source": [
    "# Homework 1\n",
    "***\n",
    "\n",
    "We are going to work with the following dataset: fluid current in a tube.\n",
    "Some statistics are collected for dataset, incl. mean, skewness, kurtosis, etc. We are predicting flow rate ('tohn/hour'). We need to build confidence and predictive intervals."
   ]
  },
  {
   "cell_type": "code",
   "execution_count": 1,
   "metadata": {},
   "outputs": [],
   "source": [
    "%matplotlib inline\n",
    "\n",
    "import numpy as np\n",
    "from sklearn import datasets, linear_model, preprocessing, model_selection\n",
    "from sklearn.utils import shuffle\n",
    "import matplotlib.pyplot as plt\n",
    "import pandas as pd"
   ]
  },
  {
   "cell_type": "code",
   "execution_count": 9,
   "metadata": {},
   "outputs": [
    {
     "data": {
      "text/html": [
       "<div>\n",
       "<style scoped>\n",
       "    .dataframe tbody tr th:only-of-type {\n",
       "        vertical-align: middle;\n",
       "    }\n",
       "\n",
       "    .dataframe tbody tr th {\n",
       "        vertical-align: top;\n",
       "    }\n",
       "\n",
       "    .dataframe thead th {\n",
       "        text-align: right;\n",
       "    }\n",
       "</style>\n",
       "<table border=\"1\" class=\"dataframe\">\n",
       "  <thead>\n",
       "    <tr style=\"text-align: right;\">\n",
       "      <th></th>\n",
       "      <th>mean</th>\n",
       "      <th>std</th>\n",
       "      <th>skew</th>\n",
       "      <th>kurt</th>\n",
       "      <th>RMS</th>\n",
       "      <th>crest</th>\n",
       "      <th>freq_peak</th>\n",
       "      <th>shan</th>\n",
       "      <th>perm</th>\n",
       "      <th>temp</th>\n",
       "      <th>tohn/hour</th>\n",
       "    </tr>\n",
       "  </thead>\n",
       "  <tbody>\n",
       "    <tr>\n",
       "      <th>0</th>\n",
       "      <td>0.025639</td>\n",
       "      <td>0.946336</td>\n",
       "      <td>-0.034895</td>\n",
       "      <td>-1.491265</td>\n",
       "      <td>0.946674</td>\n",
       "      <td>0.888424</td>\n",
       "      <td>526.01052</td>\n",
       "      <td>9.584955</td>\n",
       "      <td>1.000464</td>\n",
       "      <td>21.14</td>\n",
       "      <td>3.49</td>\n",
       "    </tr>\n",
       "    <tr>\n",
       "      <th>1</th>\n",
       "      <td>0.025639</td>\n",
       "      <td>0.946336</td>\n",
       "      <td>-0.034895</td>\n",
       "      <td>-1.491265</td>\n",
       "      <td>0.946674</td>\n",
       "      <td>0.888424</td>\n",
       "      <td>526.01052</td>\n",
       "      <td>9.584955</td>\n",
       "      <td>1.000464</td>\n",
       "      <td>21.14</td>\n",
       "      <td>3.49</td>\n",
       "    </tr>\n",
       "    <tr>\n",
       "      <th>2</th>\n",
       "      <td>0.016856</td>\n",
       "      <td>0.952439</td>\n",
       "      <td>-0.037338</td>\n",
       "      <td>-1.504434</td>\n",
       "      <td>0.952579</td>\n",
       "      <td>0.943467</td>\n",
       "      <td>530.01060</td>\n",
       "      <td>9.402718</td>\n",
       "      <td>0.991088</td>\n",
       "      <td>21.14</td>\n",
       "      <td>3.49</td>\n",
       "    </tr>\n",
       "    <tr>\n",
       "      <th>3</th>\n",
       "      <td>0.016856</td>\n",
       "      <td>0.952439</td>\n",
       "      <td>-0.037338</td>\n",
       "      <td>-1.504434</td>\n",
       "      <td>0.952579</td>\n",
       "      <td>0.943467</td>\n",
       "      <td>530.01060</td>\n",
       "      <td>9.402718</td>\n",
       "      <td>0.991088</td>\n",
       "      <td>21.14</td>\n",
       "      <td>3.49</td>\n",
       "    </tr>\n",
       "    <tr>\n",
       "      <th>4</th>\n",
       "      <td>0.031998</td>\n",
       "      <td>0.972590</td>\n",
       "      <td>-0.056116</td>\n",
       "      <td>-1.546518</td>\n",
       "      <td>0.973106</td>\n",
       "      <td>0.921600</td>\n",
       "      <td>256.00512</td>\n",
       "      <td>9.020444</td>\n",
       "      <td>0.973701</td>\n",
       "      <td>21.14</td>\n",
       "      <td>3.56</td>\n",
       "    </tr>\n",
       "  </tbody>\n",
       "</table>\n",
       "</div>"
      ],
      "text/plain": [
       "       mean       std      skew      kurt       RMS     crest  freq_peak  \\\n",
       "0  0.025639  0.946336 -0.034895 -1.491265  0.946674  0.888424  526.01052   \n",
       "1  0.025639  0.946336 -0.034895 -1.491265  0.946674  0.888424  526.01052   \n",
       "2  0.016856  0.952439 -0.037338 -1.504434  0.952579  0.943467  530.01060   \n",
       "3  0.016856  0.952439 -0.037338 -1.504434  0.952579  0.943467  530.01060   \n",
       "4  0.031998  0.972590 -0.056116 -1.546518  0.973106  0.921600  256.00512   \n",
       "\n",
       "       shan      perm   temp  tohn/hour  \n",
       "0  9.584955  1.000464  21.14       3.49  \n",
       "1  9.584955  1.000464  21.14       3.49  \n",
       "2  9.402718  0.991088  21.14       3.49  \n",
       "3  9.402718  0.991088  21.14       3.49  \n",
       "4  9.020444  0.973701  21.14       3.56  "
      ]
     },
     "execution_count": 9,
     "metadata": {},
     "output_type": "execute_result"
    }
   ],
   "source": [
    "df = pd.read_csv('exxsol_data.csv', sep=';', header=(0))\n",
    "df.head()"
   ]
  },
  {
   "cell_type": "markdown",
   "metadata": {},
   "source": [
    "There are 10 features and 1 label to predict:"
   ]
  },
  {
   "cell_type": "code",
   "execution_count": 3,
   "metadata": {},
   "outputs": [
    {
     "name": "stdout",
     "output_type": "stream",
     "text": [
      "['mean' 'std' 'skew' 'kurt' 'RMS' 'crest' 'freq_peak' 'shan' 'perm' 'temp'\n",
      " 'tohn/hour']\n"
     ]
    }
   ],
   "source": [
    "print(df.columns.values)"
   ]
  },
  {
   "cell_type": "code",
   "execution_count": 4,
   "metadata": {},
   "outputs": [],
   "source": [
    "y = df['tohn/hour']\n",
    "freq_temp = df[['freq_peak','temp']]"
   ]
  },
  {
   "cell_type": "markdown",
   "metadata": {},
   "source": [
    "Physics tells us that flow rate is a function of a frequency peak and temperature."
   ]
  },
  {
   "cell_type": "code",
   "execution_count": 6,
   "metadata": {},
   "outputs": [],
   "source": [
    "freq_temp, y = shuffle(freq_temp, y)\n",
    "\n",
    "# split data into training and testing sets\n",
    "#from sklearn.model_selection import train_test_split\n",
    "#train_freq, test_freq, train_y, test_y = train_test_split(freq, y, train_size=0.7, random_state=2)\n",
    "\n",
    "lr = linear_model.LinearRegression()\n",
    "predicted = model_selection.cross_val_predict(\n",
    "    lr, freq_temp, y.to_numpy(), cv=20)\n",
    "score = model_selection.cross_val_score(lr, freq_temp, y,\n",
    "                                         scoring='r2',cv=20)"
   ]
  },
  {
   "cell_type": "markdown",
   "metadata": {},
   "source": [
    "## Q0: Build point estimate for mean r2 score and its deviation"
   ]
  },
  {
   "cell_type": "code",
   "execution_count": 11,
   "metadata": {},
   "outputs": [
    {
     "name": "stdout",
     "output_type": "stream",
     "text": [
      "Mean R^2 score: 0.8275\n",
      "Standard Deviation of R^2 Scores: 0.0587\n"
     ]
    }
   ],
   "source": [
    "# Your code here\n",
    "mean_r2 = np.mean(score)\n",
    "std_r2 = np.std(score)\n",
    "\n",
    "print(f\"Mean R^2 score: {mean_r2:.4f}\")\n",
    "print(f\"Standard Deviation of R^2 Scores: {std_r2:.4f}\")"
   ]
  },
  {
   "cell_type": "markdown",
   "metadata": {},
   "source": [
    "## Q1: Predicted is an array with predictions of the label y. Assuming, that $\\sigma = 0.1$, compute 95% confidence and predictive interval for mean squared error. "
   ]
  },
  {
   "cell_type": "code",
   "execution_count": 15,
   "metadata": {},
   "outputs": [
    {
     "name": "stdout",
     "output_type": "stream",
     "text": [
      "Mean Square Error: 1.9352721793461563\n",
      "95% Confidence Interval: (1.9279, 1.9427)\n"
     ]
    }
   ],
   "source": [
    "# Your code here\n",
    "\n",
    "mse = np.mean((y - predicted) ** 2)\n",
    "\n",
    "from scipy.stats import t\n",
    "n = len(y)\n",
    "alpha = 0.05\n",
    "sigma = 0.1\n",
    "\n",
    "t_critical = t.ppf(1 - alpha / 2, df = n - 1)\n",
    "margin_of_error_ci = t_critical * (sigma / np.sqrt(n))\n",
    "\n",
    "ci_lower = mse - margin_of_error_ci\n",
    "ci_upper = mse + margin_of_error_ci\n",
    "\n",
    "print(f\"Mean Square Error: {mse}\")\n",
    "print(f\"95% Confidence Interval: ({ci_lower:.4f}, {ci_upper:.4f})\")"
   ]
  },
  {
   "cell_type": "markdown",
   "metadata": {},
   "source": [
    "## Q2:  Compute 95% confidence and predicted intervals for mean squared error, assuming no knowledge about $\\sigma$."
   ]
  },
  {
   "cell_type": "code",
   "execution_count": 19,
   "metadata": {},
   "outputs": [
    {
     "name": "stdout",
     "output_type": "stream",
     "text": [
      "Mean Square Error: 1.9352721793461563\n",
      "95% Confidence Interval: (1.8320, 2.0386)\n"
     ]
    }
   ],
   "source": [
    "# Your code here\n",
    "\n",
    "residuals = y - predicted\n",
    "\n",
    "sample_mean_residuals = np.mean(residuals)\n",
    "sample_std_residuals = np.std(residuals, ddof=1)\n",
    "\n",
    "mse = np.mean((y - predicted) ** 2)\n",
    "\n",
    "n = len(y)\n",
    "alpha = 0.05\n",
    "\n",
    "t_critical = t.ppf(1 - alpha / 2, df=n - 1)\n",
    "\n",
    "margin_of_error_ci = t_critical * (sample_std_residuals / np.sqrt(n))\n",
    "\n",
    "ci_lower = mse - margin_of_error_ci\n",
    "ci_upper = mse + margin_of_error_ci\n",
    "\n",
    "print(f\"Mean Square Error: {mse}\")\n",
    "print(f\"95% Confidence Interval: ({ci_lower:.4f}, {ci_upper:.4f})\")"
   ]
  },
  {
   "cell_type": "markdown",
   "metadata": {},
   "source": [
    "We can use additional features and more complex model, e.g. ElasticNet."
   ]
  },
  {
   "cell_type": "code",
   "execution_count": 20,
   "metadata": {},
   "outputs": [],
   "source": [
    "y = df['tohn/hour']\n",
    "X = df.drop(['tohn/hour'],axis=1)\n",
    "X = preprocessing.scale(X)\n",
    "X, y = shuffle(X, y)\n",
    "\n",
    "encv = linear_model.ElasticNetCV(cv=10,max_iter=3000, n_alphas=10)\n",
    "predicted_encv = model_selection.cross_val_predict(\n",
    "    encv, X, y.to_numpy(), cv=20)\n",
    "score_encv = model_selection.cross_val_score(encv,X, y.to_numpy(),\n",
    "                                         scoring='r2',cv=20)"
   ]
  },
  {
   "cell_type": "markdown",
   "metadata": {},
   "source": [
    "## Q3:  Compute 95% confidence interval for difference in means of mean squared error between 2 models, assuming no knowledge about $\\sigma$."
   ]
  },
  {
   "cell_type": "code",
   "execution_count": 24,
   "metadata": {},
   "outputs": [
    {
     "name": "stdout",
     "output_type": "stream",
     "text": [
      "difference: 1.8758\n",
      "95% Confidence Interval for Difference in MSEs: (1.7709, 1.9807)\n"
     ]
    }
   ],
   "source": [
    "# Your code here\n",
    "mse_lr = mse\n",
    "mse_encv = np.mean((y - predicted_encv) ** 2)\n",
    "\n",
    "delta = mse_lr - mse_encv\n",
    "\n",
    "residuals_lr = residuals\n",
    "residuals_encv = y - predicted_encv\n",
    "\n",
    "var_lr = np.var(residuals_lr, ddof=1)\n",
    "var_encv = np.var(residuals_encv, ddof=1)\n",
    "\n",
    "n = len(y)\n",
    "\n",
    "se_delta = np.sqrt(var_lr / n + var_encv / n)\n",
    "\n",
    "alpha = 0.05\n",
    "\n",
    "t_critical = t.ppf(1 - alpha / 2, df=n - 1)\n",
    "margin_of_errors = t_critical * se_delta\n",
    "\n",
    "ci_lower = delta - margin_of_errors\n",
    "ci_upper = delta + margin_of_errors\n",
    "\n",
    "print(f\"difference: {delta:.4f}\")\n",
    "print(f\"95% Confidence Interval for Difference in MSEs: ({ci_lower:.4f}, {ci_upper:.4f})\")"
   ]
  },
  {
   "cell_type": "markdown",
   "metadata": {
    "collapsed": true,
    "jupyter": {
     "outputs_hidden": true
    }
   },
   "source": [
    "## Q4: Implement UCB1"
   ]
  },
  {
   "cell_type": "code",
   "execution_count": 27,
   "metadata": {},
   "outputs": [],
   "source": [
    "import numpy as np\n",
    "\n",
    "class UCB1:\n",
    "    def __init__(self, num_arms: int):\n",
    "        self.num_arms = num_arms\n",
    "        self.total_pulls = 0\n",
    "        self.arm_pulls = np.zeros(num_arms)\n",
    "        self.rewards = np.zeros(num_arms)\n",
    "\n",
    "    def select_arm(self):\n",
    "        if self.total_pulls < self.num_arms:\n",
    "            return self.total_pulls\n",
    "\n",
    "        # self.rewards / (self.arm_pulls + 1e-6) -- cредний доход со всех ручек\n",
    "        # np.sqrt(2 * np.log(self.total_pulls) / (self.arm_pulls + 1e-6)) -- сколько получим\n",
    "        ucb_values = (\n",
    "            self.rewards / (self.arm_pulls + 1e-6) + \n",
    "            np.sqrt(2 * np.log(self.total_pulls) / (self.arm_pulls + 1e-6))\n",
    "        )\n",
    "\n",
    "        return np.argmax(ucb_values)\n",
    "\n",
    "    def update(self, arm, reward):\n",
    "        self.total_pulls += 1\n",
    "        self.arm_pulls[arm] += 1\n",
    "        self.rewards[arm] += reward"
   ]
  }
 ],
 "metadata": {
  "kernelspec": {
   "display_name": "hamc-mbTT2DrE",
   "language": "python",
   "name": "python3"
  },
  "language_info": {
   "codemirror_mode": {
    "name": "ipython",
    "version": 3
   },
   "file_extension": ".py",
   "mimetype": "text/x-python",
   "name": "python",
   "nbconvert_exporter": "python",
   "pygments_lexer": "ipython3",
   "version": "3.11.10"
  }
 },
 "nbformat": 4,
 "nbformat_minor": 4
}
