{
  "nbformat": 4,
  "nbformat_minor": 0,
  "metadata": {
    "colab": {
      "provenance": []
    },
    "kernelspec": {
      "name": "python3",
      "display_name": "Python 3"
    },
    "language_info": {
      "name": "python"
    }
  },
  "cells": [
    {
      "cell_type": "code",
      "source": [
        "import numpy as np"
      ],
      "metadata": {
        "id": "j_1KamtohNma"
      },
      "execution_count": 16,
      "outputs": []
    },
    {
      "cell_type": "code",
      "execution_count": 17,
      "metadata": {
        "id": "7eVntRSDQmNf"
      },
      "outputs": [],
      "source": [
        "class Epsilon_greedy:\n",
        "    def __init__(self, n_arms, eps=0.1):\n",
        "        \"\"\"\n",
        "        - n_arms: количество рук\n",
        "        - epsilon: вероятность случайного выбора\n",
        "        \"\"\"\n",
        "        self.n_arms = n_arms\n",
        "        self.eps = eps\n",
        "        self.counts = np.zeros(n_arms)\n",
        "        self.values = np.zeros(n_arms)\n",
        "\n",
        "    def select_arm(self):\n",
        "        if np.random.random() < self.eps:\n",
        "            return np.random.randint(self.n_arms)\n",
        "        else:\n",
        "            return np.argmax(self.values)\n",
        "\n",
        "    def update(self, chosen_arm, reward):\n",
        "        \"\"\"\n",
        "        - chosen_arm: выбранная рука\n",
        "        - reward: полученная награда\n",
        "        \"\"\"\n",
        "        self.counts[chosen_arm] += 1\n",
        "        n = self.counts[chosen_arm]\n",
        "        value = self.values[chosen_arm]\n",
        "        new_value = ((n - 1) / n) * value + (1 / n) * reward\n",
        "        self.values[chosen_arm] = new_value"
      ]
    },
    {
      "cell_type": "code",
      "source": [
        "n_arms = 2\n",
        "n_steps = 100\n",
        "eps = 0.2\n",
        "\n",
        "true_means = np.random.uniform(0, 1, n_arms)\n",
        "print(f\"Истинные средние значения: {true_means}\")\n",
        "\n",
        "bandit = Epsilon_greedy(n_arms, eps)\n",
        "rewards = []\n",
        "optimal_actions = []\n",
        "\n",
        "for step in range(n_steps):\n",
        "    arm = bandit.select_arm()\n",
        "    reward = np.random.normal(true_means[arm], 0.1)\n",
        "    bandit.update(arm, reward)\n",
        "    rewards.append(reward)\n",
        "\n",
        "print(f\"\\nОценки средних наград: {bandit.values}\")\n",
        "print(f\"Количество выборов каждой руки: {bandit.counts}\")"
      ],
      "metadata": {
        "colab": {
          "base_uri": "https://localhost:8080/"
        },
        "id": "xVRlr_hEZs3Q",
        "outputId": "a8cbfcfc-e215-420b-83ef-fb8331361d03"
      },
      "execution_count": 18,
      "outputs": [
        {
          "output_type": "stream",
          "name": "stdout",
          "text": [
            "Истинные средние значения: [0.27615472 0.43973022]\n",
            "\n",
            "Оценки средних наград: [0.26853311 0.45216608]\n",
            "Количество выборов каждой руки: [13. 87.]\n"
          ]
        }
      ]
    },
    {
      "cell_type": "code",
      "source": [],
      "metadata": {
        "id": "arKsSct0apCF"
      },
      "execution_count": null,
      "outputs": []
    }
  ]
}